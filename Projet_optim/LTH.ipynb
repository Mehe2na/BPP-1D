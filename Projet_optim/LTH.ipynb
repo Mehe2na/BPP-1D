{
 "cells": [
  {
   "cell_type": "code",
   "execution_count": 1,
   "metadata": {},
   "outputs": [],
   "source": [
    "from __future__ import print_function\n",
    "%matplotlib inline\n",
    "import os\n",
    "import numpy as np\n",
    "import pandas as pd\n",
    "from time import time\n",
    "from gurobipy import *\n",
    "from random import *\n",
    "import matplotlib.pyplot as plt\n",
    "from random import randint,choice,random\n",
    "plt.style.use(\"ggplot\")\n",
    "from ipywidgets import interact, interactive, fixed, interact_manual, IntSlider\n",
    "import ipywidgets as widgets\n",
    "from LTH import *\n",
    "instances = 'instances/'\n",
    "from collections import namedtuple\n",
    "import itertools\n",
    "\n",
    "Item = namedtuple(\"Item\", ['id', 'size'])\n",
    "Candidate = namedtuple(\"Candidate\", ['items', 'fitness'])"
   ]
  },
  {
   "cell_type": "code",
   "execution_count": 2,
   "metadata": {},
   "outputs": [
    {
     "data": {
      "application/vnd.jupyter.widget-view+json": {
       "model_id": "e47a20211e424a43ace4708e7561a4dd",
       "version_major": 2,
       "version_minor": 0
      },
      "text/plain": [
       "interactive(children=(Dropdown(description='instance', options=('HARD0.txt', 'HARD7.txt', 'N1C2W4_P.txt', 'N1C…"
      ]
     },
     "metadata": {},
     "output_type": "display_data"
    }
   ],
   "source": [
    "@interact\n",
    "def AG(instance = os.listdir(instances), schema = ['S1','S2'], greedy = ['FF','BF'], method=['TS','RW','RS','SUS'], \n",
    "            details = ['Non','Oui'], mutation = [False,True],\n",
    "            Population = IntSlider( min=0, max=70, step=1,value=20, continuous_update=False,layout = dict(width='80%')),\n",
    "            generations = IntSlider( min=0, max=150, step=1,value=0, continuous_update=False,layout = dict(width='80%')),\n",
    "            TS_proba = IntSlider( min=0, max=100, step=1,value=70, continuous_update=False,layout = dict(width='80%')),\n",
    "            crossover_proba = IntSlider( min=0, max=100, step=1,value=40, continuous_update=False,layout = dict(width='80%')),\n",
    "            mutation_proba = IntSlider( min=0, max=100, step=1,value=40, continuous_update=False,layout = dict(width='80%')),\n",
    "      ):\n",
    "    print('S1 : selection -> croisement -> recherche locale -> remplacement')\n",
    "    print('S2 : selection -> recherche locale -> remplacement')\n",
    "    df = pd.read_csv('datasets.csv',index_col=0)\n",
    "    opt = df.loc[instance.split('.')[0]]['value']\n",
    "    f = open(instances+instance,'r')\n",
    "    n = int(f.readline())\n",
    "    c = int(f.readline())\n",
    "    Wj = list(map (lambda l : int(l.replace(\"\\n\",'')), f.readlines()))\n",
    "    f.close()\n",
    "    print('n : ',n,' | c : ',c,' | opt : ',opt)\n",
    "    if (details == 'Oui'):\n",
    "        detail = True\n",
    "    else:\n",
    "        detail = False\n",
    "    sol = []\n",
    "    if(Population > 0 and generations > 0 and schema == 'S1'):\n",
    "        sol = hybrid_LTH_1(Wj, c, mutation, Population, generations, 2, \n",
    "                            TS_proba/100.0, crossover_proba/100, mutation_proba/100.0, greedy,\n",
    "                           allow_duplicate_parents=False, selection_method=method)\n",
    "        show_sol(c,sol,opt,detail)\n",
    "        print(len(sol[0]))\n",
    "    elif(Population > 0 and generations > 0 and schema == 'S2'):\n",
    "        sol = hybrid_LTH_2(Wj, c, mutation, Population, generations, 2, \n",
    "                            TS_proba/100, mutation_proba/100, greedy, \n",
    "                           allow_duplicate_parents=False, selection_method=method)\n",
    "        show_sol(c,sol,opt,detail)"
   ]
  },
  {
   "cell_type": "code",
   "execution_count": null,
   "metadata": {},
   "outputs": [],
   "source": []
  }
 ],
 "metadata": {
  "kernelspec": {
   "display_name": "Python 3",
   "language": "python",
   "name": "python3"
  },
  "language_info": {
   "codemirror_mode": {
    "name": "ipython",
    "version": 3
   },
   "file_extension": ".py",
   "mimetype": "text/x-python",
   "name": "python",
   "nbconvert_exporter": "python",
   "pygments_lexer": "ipython3",
   "version": "3.7.4"
  }
 },
 "nbformat": 4,
 "nbformat_minor": 2
}
