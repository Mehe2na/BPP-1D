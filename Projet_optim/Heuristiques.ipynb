{
 "cells": [
  {
   "cell_type": "code",
   "execution_count": 1,
   "metadata": {},
   "outputs": [],
   "source": [
    "from __future__ import print_function\n",
    "from time import time\n",
    "%matplotlib inline\n",
    "import os\n",
    "import numpy as np\n",
    "import pandas as pd\n",
    "from ipywidgets import interact, interactive, fixed, interact_manual, IntSlider\n",
    "import ipywidgets as widgets\n",
    "from heuristiques import *\n",
    "instances = 'instances/'"
   ]
  },
  {
   "cell_type": "code",
   "execution_count": 2,
   "metadata": {},
   "outputs": [
    {
     "name": "stdout",
     "output_type": "stream",
     "text": [
      "************ Heuristics **************\n"
     ]
    },
    {
     "data": {
      "application/vnd.jupyter.widget-view+json": {
       "model_id": "3f044212420046c5a2015a162d34dae9",
       "version_major": 2,
       "version_minor": 0
      },
      "text/plain": [
       "interactive(children=(Dropdown(description='instance', options=('HARD0.txt', 'HARD7.txt', 'N1C2W4_P.txt', 'N1C…"
      ]
     },
     "metadata": {},
     "output_type": "display_data"
    }
   ],
   "source": [
    "print(\"************ Heuristics **************\")\n",
    "@interact\n",
    "def heuristic(instance = os.listdir(instances), method = ['Selectionnez une méthode','FF','BF','NF','MR','MRH','LF'],\n",
    "             details = ['Non','Oui']):\n",
    "    df = pd.read_csv('datasets.csv',index_col=0)\n",
    "    opt = df.loc[instance.split('.')[0]]['value']\n",
    "    f = open(instances+instance,'r')\n",
    "    n = int(f.readline())\n",
    "    c = int(f.readline())\n",
    "    Wj = list(map (lambda l : int(l.replace(\"\\n\",'')), f.readlines()))\n",
    "    f.close()\n",
    "    if (details == 'Oui'):\n",
    "        detail = True\n",
    "    else:\n",
    "        detail = False\n",
    "    sol = []\n",
    "    print('n : ',n,' c: ',c)\n",
    "    if(method == 'FF'):\n",
    "        sol = FF(n,c,Wj)\n",
    "        show1(c,sol[2],opt,sol[4],sol[1],detail)\n",
    "    elif(method == 'BF'):\n",
    "        sol = BF(n,c,Wj)\n",
    "        show1(c,sol[2],opt,sol[4],sol[1],detail)\n",
    "    elif(method == 'NF'):\n",
    "        sol = NF(n,c,Wj)\n",
    "        show1(c,sol[2],opt,sol[4],sol[1],detail)\n",
    "    elif(method == 'MR'):\n",
    "        sol = MR(n,c,Wj)\n",
    "        show1(c,sol[2],opt,sol[4],sol[1],detail)\n",
    "    elif(method == 'MRH'):\n",
    "        sol = MRH(n,c,Wj)\n",
    "        show2(c,sol[1],opt,sol[3],detail)\n",
    "    elif(method == 'LF'):\n",
    "        sol = LF(n,c,Wj)\n",
    "        show1(c,sol[2],opt,sol[4],sol[1],detail)\n",
    "    "
   ]
  },
  {
   "cell_type": "code",
   "execution_count": null,
   "metadata": {},
   "outputs": [],
   "source": []
  },
  {
   "cell_type": "code",
   "execution_count": null,
   "metadata": {},
   "outputs": [],
   "source": []
  },
  {
   "cell_type": "code",
   "execution_count": null,
   "metadata": {},
   "outputs": [],
   "source": []
  },
  {
   "cell_type": "code",
   "execution_count": null,
   "metadata": {},
   "outputs": [],
   "source": []
  }
 ],
 "metadata": {
  "kernelspec": {
   "display_name": "Python 3",
   "language": "python",
   "name": "python3"
  },
  "language_info": {
   "codemirror_mode": {
    "name": "ipython",
    "version": 3
   },
   "file_extension": ".py",
   "mimetype": "text/x-python",
   "name": "python",
   "nbconvert_exporter": "python",
   "pygments_lexer": "ipython3",
   "version": "3.7.4"
  }
 },
 "nbformat": 4,
 "nbformat_minor": 2
}
