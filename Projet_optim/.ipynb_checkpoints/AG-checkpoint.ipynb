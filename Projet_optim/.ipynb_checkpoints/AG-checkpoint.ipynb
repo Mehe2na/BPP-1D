{
 "cells": [
  {
   "cell_type": "code",
   "execution_count": 1,
   "metadata": {},
   "outputs": [],
   "source": [
    "from __future__ import print_function\n",
    "%matplotlib inline\n",
    "import os\n",
    "import numpy as np\n",
    "\n",
    "from time import time\n",
    "from gurobipy import *\n",
    "import os\n",
    "import matplotlib.pyplot as plt\n",
    "from collections import namedtuple\n",
    "plt.style.use(\"ggplot\")\n",
    "from ipywidgets import interact, interactive, fixed, interact_manual, IntSlider\n",
    "import ipywidgets as widgets\n",
    "from AG import *\n",
    "instances = 'instances/'\n",
    "\n",
    "import itertools\n",
    "from random import *\n",
    "Item = namedtuple(\"Item\", ['id', 'size'])\n",
    "Candidate = namedtuple(\"Candidate\", ['items', 'fitness'])"
   ]
  },
  {
   "cell_type": "code",
   "execution_count": 3,
   "metadata": {},
   "outputs": [
    {
     "data": {
      "application/vnd.jupyter.widget-view+json": {
       "model_id": "0bde067df09d4807a0fa3f840e0a7593",
       "version_major": 2,
       "version_minor": 0
      },
      "text/plain": [
       "interactive(children=(Dropdown(description='instance', options=('HARD0.txt', 'HARD7.txt', 'N1C2W4_P.txt', 'N1C…"
      ]
     },
     "metadata": {},
     "output_type": "display_data"
    }
   ],
   "source": [
    "@interact\n",
    "def AG(instance = os.listdir(instances), greedy = ['FF','BF'], method=['TS','RW','RS','SUS'], details = ['Non','Oui'],\n",
    "            Population = IntSlider( min=0, max=70, step=1,value=20, continuous_update=False,layout = dict(width='80%')),\n",
    "            generations = IntSlider( min=0, max=150, step=1,value=0, continuous_update=False,layout = dict(width='80%')),\n",
    "            TS_proba = IntSlider( min=0, max=100, step=1,value=70, continuous_update=False,layout = dict(width='80%')),\n",
    "            crossover_proba = IntSlider( min=0, max=100, step=1,value=40, continuous_update=False,layout = dict(width='80%')),\n",
    "            mutation_proba = IntSlider( min=0, max=100, step=1,value=40, continuous_update=False,layout = dict(width='80%')),\n",
    "      ):\n",
    "    df = pd.read_csv('datasets.csv',index_col=0)\n",
    "    opt = df.loc[instance.split('.')[0]]['value']\n",
    "    f = open(instances+instance,'r')\n",
    "    n = int(f.readline())\n",
    "    c = int(f.readline())\n",
    "    Wj = list(map (lambda l : int(l.replace(\"\\n\",'')), f.readlines()))\n",
    "    f.close()\n",
    "    print('n : ',n,' | c : ',c,' | opt : ',opt)\n",
    "    if (details == 'Oui'):\n",
    "        detail = True\n",
    "    else:\n",
    "        detail = False\n",
    "    sol = []\n",
    "    if(Population > 0 and generations > 0):\n",
    "        sol = genetic_algorithm(Wj, c, Population, generations, 2, TS_proba/100, \n",
    "                          crossover_proba/100,mutation_proba/100, greedy, False, method)\n",
    "        show_sol(c,sol,opt,detail)"
   ]
  },
  {
   "cell_type": "code",
   "execution_count": null,
   "metadata": {},
   "outputs": [],
   "source": []
  }
 ],
 "metadata": {
  "kernelspec": {
   "display_name": "Python 3",
   "language": "python",
   "name": "python3"
  },
  "language_info": {
   "codemirror_mode": {
    "name": "ipython",
    "version": 3
   },
   "file_extension": ".py",
   "mimetype": "text/x-python",
   "name": "python",
   "nbconvert_exporter": "python",
   "pygments_lexer": "ipython3",
   "version": "3.7.4"
  }
 },
 "nbformat": 4,
 "nbformat_minor": 2
}
