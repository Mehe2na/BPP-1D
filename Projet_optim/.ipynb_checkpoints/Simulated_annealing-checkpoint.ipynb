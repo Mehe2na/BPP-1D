{
 "cells": [
  {
   "cell_type": "code",
   "execution_count": 4,
   "metadata": {},
   "outputs": [],
   "source": [
    "from __future__ import print_function\n",
    "%matplotlib inline\n",
    "import os\n",
    "import numpy as np\n",
    "import pandas as pd\n",
    "from time import time\n",
    "from gurobipy import *\n",
    "import matplotlib.pyplot as plt\n",
    "from random import randint,choice,random\n",
    "plt.style.use(\"ggplot\")\n",
    "from ipywidgets import interact, interactive, fixed, interact_manual, IntSlider\n",
    "import ipywidgets as widgets\n",
    "from SA import *\n",
    "instances = 'instances/'"
   ]
  },
  {
   "cell_type": "code",
   "execution_count": 5,
   "metadata": {},
   "outputs": [
    {
     "data": {
      "application/vnd.jupyter.widget-view+json": {
       "model_id": "7417f19e88a744ffb5500ae6c31c5bfe",
       "version_major": 2,
       "version_minor": 0
      },
      "text/plain": [
       "interactive(children=(Dropdown(description='instance', options=('HARD0.txt', 'HARD7.txt', 'N1C2W4_P.txt', 'N1C…"
      ]
     },
     "metadata": {},
     "output_type": "display_data"
    }
   ],
   "source": [
    "@interact\n",
    "def SA(instance = os.listdir(instances), details = ['Non','Oui'],\n",
    "                T = IntSlider( min=0, max=29000, step=500,value=21000, continuous_update=False,layout = dict(width='80%')),\n",
    "                Nb_iter = IntSlider( min=0, max=7000, step=50,value=0, continuous_update=False,layout = dict(width='80%'))):\n",
    "    df = pd.read_csv('datasets.csv',index_col=0)\n",
    "    opt = df.loc[instance.split('.')[0]]['value']\n",
    "    f = open(instances+instance,'r')\n",
    "    n = int(f.readline())\n",
    "    c = int(f.readline())\n",
    "    Wj = list(map (lambda l : int(l.replace(\"\\n\",'')), f.readlines()))\n",
    "    f.close()\n",
    "    print('n : ',n,' | c : ',c,' | opt : ',opt)\n",
    "    if (details == 'Oui'):\n",
    "        detail = True\n",
    "    else:\n",
    "        detail = False\n",
    "    sol = []\n",
    "    if( T > 0 and Nb_iter > 0 ):\n",
    "        sol = Recuit_simule(c,Wj,n,T,Nb_iter)\n",
    "        show_sol(c,sol,opt,detail)"
   ]
  },
  {
   "cell_type": "code",
   "execution_count": null,
   "metadata": {},
   "outputs": [],
   "source": []
  },
  {
   "cell_type": "code",
   "execution_count": null,
   "metadata": {},
   "outputs": [],
   "source": []
  }
 ],
 "metadata": {
  "kernelspec": {
   "display_name": "Python 3",
   "language": "python",
   "name": "python3"
  },
  "language_info": {
   "codemirror_mode": {
    "name": "ipython",
    "version": 3
   },
   "file_extension": ".py",
   "mimetype": "text/x-python",
   "name": "python",
   "nbconvert_exporter": "python",
   "pygments_lexer": "ipython3",
   "version": "3.7.4"
  }
 },
 "nbformat": 4,
 "nbformat_minor": 2
}
