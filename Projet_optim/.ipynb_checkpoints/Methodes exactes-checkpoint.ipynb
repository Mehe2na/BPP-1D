{
 "cells": [
  {
   "cell_type": "code",
   "execution_count": 6,
   "metadata": {},
   "outputs": [],
   "source": [
    "from __future__ import print_function\n",
    "%matplotlib inline\n",
    "import os\n",
    "import numpy as np\n",
    "import pandas as pd\n",
    "from time import time\n",
    "from copy import deepcopy\n",
    "from gurobipy import *\n",
    "import matplotlib.pyplot as plt\n",
    "plt.style.use(\"ggplot\")\n",
    "from ipywidgets import interact, interactive, fixed, interact_manual, IntSlider\n",
    "import ipywidgets as widgets\n",
    "from exact_methods import *\n",
    "instances = 'instances/'"
   ]
  },
  {
   "cell_type": "markdown",
   "metadata": {},
   "source": [
    "# Methodes exactes : \n",
    "1. Branch and bound\n",
    "2. Linear programming"
   ]
  },
  {
   "cell_type": "code",
   "execution_count": 7,
   "metadata": {},
   "outputs": [
    {
     "data": {
      "application/vnd.jupyter.widget-view+json": {
       "model_id": "efae18b8202e431fb43e9f1a8ef17cdf",
       "version_major": 2,
       "version_minor": 0
      },
      "text/plain": [
       "interactive(children=(Dropdown(description='instance', options=('HARD0.txt', 'HARD7.txt', 'N1C2W4_P.txt', 'N1C…"
      ]
     },
     "metadata": {},
     "output_type": "display_data"
    }
   ],
   "source": [
    "@interact\n",
    "def exact_method(instance = os.listdir(instances), method = ['Selectionnez une méthode','Linear prog','Branch and bound'],\n",
    "                   T = IntSlider( min=0, max=300, step=5,value=0, continuous_update=False,\n",
    "                                                            layout = dict(width='80%'))):\n",
    "    df = pd.read_csv('datasets.csv',index_col=0)\n",
    "    opt = df.loc[instance.split('.')[0]]['value']\n",
    "    f = open(instances+instance,'r')\n",
    "    n = int(f.readline())\n",
    "    c = int(f.readline())\n",
    "    Wj = list(map (lambda l : int(l.replace(\"\\n\",'')), f.readlines()))\n",
    "    f.close()\n",
    "    print('n : ',n,' | c : ',c,' | opt : ',opt)\n",
    "    if(method == 'Linear prog' and T>0):\n",
    "        model_bpp(c,Wj,opt,LogToConsole = True,TimeLimit=T)\n",
    "    elif(method =='Branch and bound' and T>0):\n",
    "        BinPackingBB(Wj, n, c, opt, TimeLimit=T, InitBFD=True)"
   ]
  },
  {
   "cell_type": "code",
   "execution_count": null,
   "metadata": {},
   "outputs": [],
   "source": []
  },
  {
   "cell_type": "code",
   "execution_count": null,
   "metadata": {},
   "outputs": [],
   "source": []
  }
 ],
 "metadata": {
  "kernelspec": {
   "display_name": "Python 3",
   "language": "python",
   "name": "python3"
  },
  "language_info": {
   "codemirror_mode": {
    "name": "ipython",
    "version": 3
   },
   "file_extension": ".py",
   "mimetype": "text/x-python",
   "name": "python",
   "nbconvert_exporter": "python",
   "pygments_lexer": "ipython3",
   "version": "3.7.4"
  }
 },
 "nbformat": 4,
 "nbformat_minor": 2
}
